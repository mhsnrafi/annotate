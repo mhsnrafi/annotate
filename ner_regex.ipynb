{
 "cells": [
  {
   "cell_type": "code",
   "execution_count": 1,
   "metadata": {},
   "outputs": [
    {
     "ename": "ImportError",
     "evalue": "No module named 'regex'",
     "output_type": "error",
     "traceback": [
      "\u001b[0;31m---------------------------------------------------------------------------\u001b[0m",
      "\u001b[0;31mImportError\u001b[0m                               Traceback (most recent call last)",
      "\u001b[0;32m<ipython-input-1-8d49be19d4aa>\u001b[0m in \u001b[0;36m<module>\u001b[0;34m()\u001b[0m\n\u001b[1;32m      5\u001b[0m \u001b[0;32mimport\u001b[0m \u001b[0mdifflib\u001b[0m\u001b[0;34m\u001b[0m\u001b[0m\n\u001b[1;32m      6\u001b[0m \u001b[0;32mimport\u001b[0m \u001b[0mre\u001b[0m\u001b[0;34m\u001b[0m\u001b[0m\n\u001b[0;32m----> 7\u001b[0;31m \u001b[0;32mimport\u001b[0m \u001b[0mregex\u001b[0m\u001b[0;34m\u001b[0m\u001b[0m\n\u001b[0m\u001b[1;32m      8\u001b[0m \u001b[0;32mimport\u001b[0m \u001b[0msys\u001b[0m\u001b[0;34m\u001b[0m\u001b[0m\n\u001b[1;32m      9\u001b[0m \u001b[0;32mfrom\u001b[0m \u001b[0mtime\u001b[0m \u001b[0;32mimport\u001b[0m \u001b[0mtime\u001b[0m\u001b[0;34m\u001b[0m\u001b[0m\n",
      "\u001b[0;31mImportError\u001b[0m: No module named 'regex'"
     ]
    }
   ],
   "source": [
    "import pandas as pd\n",
    "pd.options.display.max_colwidth=100\n",
    "import re, nltk, string\n",
    "import numpy as np\n",
    "import difflib\n",
    "import re\n",
    "import regex\n",
    "import sys\n",
    "from time import time\n",
    "import matplotlib.pyplot as plt"
   ]
  },
  {
   "cell_type": "code",
   "execution_count": null,
   "metadata": {},
   "outputs": [],
   "source": [
    "from sklearn.feature_extraction.text import CountVectorizer\n",
    "from sklearn.feature_extraction.text import TfidfVectorizer\n",
    "from sklearn.linear_model import SGDClassifier\n",
    "from sklearn import metrics\n",
    "from sklearn.ensemble import VotingClassifier\n",
    "from sklearn.pipeline import Pipeline\n",
    "from shallowlearn.models import FastText\n",
    "from sklearn.multiclass import OneVsRestClassifier\n",
    "from sklearn.base import clone\n",
    "from sklearn.preprocessing import MultiLabelBinarizer\n",
    "from sklearn.externals import joblib\n",
    "from sklearn.svm import LinearSVC\n",
    "from difflib import SequenceMatcher\n",
    "from sklearn.model_selection import cross_val_predict, cross_val_score\n",
    "from sklearn.metrics.pairwise import cosine_similarity\n",
    "#from IRModule import CosSimPredictor\n",
    "from sklearn import preprocessing \n",
    "from sklearn.svm import SVC"
   ]
  },
  {
   "cell_type": "code",
   "execution_count": null,
   "metadata": {},
   "outputs": [],
   "source": [
    "from scipy.sparse import coo_matrix, hstack, vstack\n",
    "from nltk import ngrams\n",
    "import sklearn_crfsuite\n",
    "import pycrfsuite\n",
    "import spacy\n",
    "from spacy import displacy\n",
    "import ipywidgets as widgets\n",
    "import qgrid"
   ]
  },
  {
   "cell_type": "code",
   "execution_count": 4,
   "metadata": {},
   "outputs": [],
   "source": [
    "scen_df = pd.read_csv('data/scenario_ds.txt')"
   ]
  },
  {
   "cell_type": "code",
   "execution_count": 14,
   "metadata": {},
   "outputs": [],
   "source": [
    "prod_table=pd.read_excel('data/prod_dict.xlsx', sheet_name=0, dtype=str)"
   ]
  },
  {
   "cell_type": "code",
   "execution_count": 6,
   "metadata": {
    "scrolled": false
   },
   "outputs": [
    {
     "data": {
      "application/vnd.jupyter.widget-view+json": {
       "model_id": "247db7c02da241f7a5f8efcdd91f5ba0",
       "version_major": 2,
       "version_minor": 0
      },
      "text/html": [
       "<p>Failed to display Jupyter Widget of type <code>QgridWidget</code>.</p>\n",
       "<p>\n",
       "  If you're reading this message in the Jupyter Notebook or JupyterLab Notebook, it may mean\n",
       "  that the widgets JavaScript is still loading. If this message persists, it\n",
       "  likely means that the widgets JavaScript library is either not installed or\n",
       "  not enabled. See the <a href=\"https://ipywidgets.readthedocs.io/en/stable/user_install.html\">Jupyter\n",
       "  Widgets Documentation</a> for setup instructions.\n",
       "</p>\n",
       "<p>\n",
       "  If you're reading this message in another frontend (for example, a static\n",
       "  rendering on GitHub or <a href=\"https://nbviewer.jupyter.org/\">NBViewer</a>),\n",
       "  it may mean that your frontend doesn't currently support widgets.\n",
       "</p>\n"
      ],
      "text/plain": [
       "QgridWidget(grid_options={'minVisibleRows': 8, 'rowHeight': 28, 'defaultColumnWidth': 150, 'explicitInitialization': True, 'enableTextSelectionOnCells': True, 'fullWidthRows': True, 'enableColumnReorder': False, 'forceFitColumns': True, 'syncColumnCellResize': True, 'editable': True, 'maxVisibleRows': 15, 'autoEdit': False}, precision=5, show_toolbar=True)"
      ]
     },
     "metadata": {},
     "output_type": "display_data"
    }
   ],
   "source": [
    "prod_table=prod_table.replace('nan', '', regex=True)\n",
    "grid=qgrid.QGridWidget(df=prod_table,show_toolbar=True)\n",
    "grid"
   ]
  },
  {
   "cell_type": "code",
   "execution_count": 7,
   "metadata": {},
   "outputs": [],
   "source": [
    "prod_table=grid.get_changed_df()"
   ]
  },
  {
   "cell_type": "code",
   "execution_count": 11,
   "metadata": {},
   "outputs": [
    {
     "data": {
      "text/plain": [
       "array(['djuice', 'one plan', ''], dtype=object)"
      ]
     },
     "execution_count": 11,
     "metadata": {},
     "output_type": "execute_result"
    }
   ],
   "source": [
    "prod_table.loc[0].values"
   ]
  },
  {
   "cell_type": "code",
   "execution_count": 8,
   "metadata": {},
   "outputs": [],
   "source": [
    "txt_all=scen_df.Roman.str.cat()\n",
    "all_docs=scen_df.English.append(scen_df.Roman)"
   ]
  },
  {
   "cell_type": "code",
   "execution_count": 25,
   "metadata": {},
   "outputs": [],
   "source": [
    "all_docs=all_docs.str.replace('\\n',' ')"
   ]
  },
  {
   "cell_type": "code",
   "execution_count": 9,
   "metadata": {},
   "outputs": [],
   "source": [
    "def init_doc(s):\n",
    "    return {'text':s, 'ents':[], 'title':None, }\n",
    "    "
   ]
  },
  {
   "cell_type": "code",
   "execution_count": 10,
   "metadata": {},
   "outputs": [],
   "source": [
    "def init(SNo=0):\n",
    "    pre,inf,suf=prod_table.iloc[SNo,]\n",
    "    #print (pre,inf,suf)\n",
    "    pe=int(len(pre)/3); ie=int(len(inf)/3); se=int(len(suf)/3);\n",
    "    return SNo,pe,ie,se,pre,inf,suf"
   ]
  },
  {
   "cell_type": "code",
   "execution_count": 26,
   "metadata": {},
   "outputs": [],
   "source": [
    "def apply_regex(SNo,pe,ie,se,pre,inf,suf):\n",
    "    docs=[]; pre_dct=set(); inf_dct=set(); suf_dct=set()\n",
    "    regx=regex.compile(r'(?e:)(?:(%s){e<=%d}) (%s){e<=%d} (?:(%s){e<=%d})'%(pre,pe,inf,ie,suf,se), regex.I)\n",
    "    for i in all_docs:\n",
    "        doc=init_doc(i)\n",
    "        match = regx.finditer(i)\n",
    "        for m in match:\n",
    "            tmp=[{'start': m.start(), 'end': m.end(), 'label': 'ENT'}]\n",
    "            pre_dct.add(m.groups()[0])\n",
    "            inf_dct.add(m.groups()[1])\n",
    "            suf_dct.add(m.groups()[2])\n",
    "            doc['ents']+=tmp\n",
    "        if doc['ents']!=[]:\n",
    "            docs.append(doc)   \n",
    "    return docs, pre_dct, inf_dct, suf_dct"
   ]
  },
  {
   "cell_type": "code",
   "execution_count": 27,
   "metadata": {},
   "outputs": [],
   "source": [
    "SNo,pe,ie,se,pre,inf,suf = init(SNo=7)\n",
    "docs, pre_dct, inf_dct, suf_dct = apply_regex(SNo,pe,ie,se,pre,inf,suf)"
   ]
  },
  {
   "cell_type": "code",
   "execution_count": 28,
   "metadata": {},
   "outputs": [],
   "source": [
    "from ipywidgets import Button, HBox, VBox, Box, Text, Layout\n",
    "from ipywidgets import interact, interactive, fixed"
   ]
  },
  {
   "cell_type": "code",
   "execution_count": 29,
   "metadata": {},
   "outputs": [],
   "source": [
    "box_layout=Layout(\n",
    "    display='flex',\n",
    "    flex_flow='row',\n",
    "    border='solid 1px',\n",
    "    align_items='stretch',\n",
    "    width='75%',\n",
    ")\n",
    "\n",
    "html_box_layout=Layout(\n",
    "    overflow_x='scroll',\n",
    "    display='flex',\n",
    "    flex_flow='row',\n",
    "    height='100 px',\n",
    "    border='solid',\n",
    "    \n",
    ")"
   ]
  },
  {
   "cell_type": "code",
   "execution_count": 30,
   "metadata": {},
   "outputs": [],
   "source": [
    "p,i,s=prod_table.iloc[SNo,]"
   ]
  },
  {
   "cell_type": "code",
   "execution_count": 31,
   "metadata": {},
   "outputs": [],
   "source": [
    "pre_chk=widgets.Checkbox(value=True,)\n",
    "inf_chk=widgets.Checkbox(value=True,)\n",
    "suf_chk=widgets.Checkbox(value=True,)\n",
    "\n",
    "pre_sel=widgets.SelectMultiple(options=pre_dct)\n",
    "inf_sel=widgets.SelectMultiple(options=inf_dct)\n",
    "suf_sel=widgets.SelectMultiple(options=suf_dct)\n",
    "\n",
    "pre_txt=Text(value=p, disabled=not pre_chk.value)\n",
    "inf_txt=Text(value=i, disabled=not inf_chk.value)\n",
    "suf_txt=Text(value=s, disabled=not suf_chk.value)\n",
    "\n",
    "pre_sld=widgets.IntSlider(value=pe,min=0, max=6, orientation='vertical',readout=True,)\n",
    "inf_sld=widgets.IntSlider(value=ie,min=0, max=6, orientation='vertical',readout=True,)\n",
    "suf_sld=widgets.IntSlider(value=se,min=0, max=6, orientation='vertical',readout=True,)\n",
    "\n",
    "pre_txt_bx=VBox([pre_txt, pre_sel])\n",
    "inf_txt_bx=VBox([inf_txt, inf_sel])\n",
    "suf_txt_bx=VBox([suf_txt, suf_sel])\n",
    "\n",
    "pre_box=HBox([pre_chk,pre_txt_bx,pre_sld])\n",
    "inf_box=HBox([inf_chk,inf_txt_bx,inf_sld])\n",
    "suf_box=HBox([suf_chk,suf_txt_bx,suf_sld])\n",
    "\n",
    "w=widgets.IntText(SNo,description='Serial No:')\n",
    "prev_btn=widgets.Button(description=\"Previous\")\n",
    "next_btn=widgets.Button(description=\"Next\")\n",
    "\n",
    "submit_btn=widgets.Button(description='Submit')\n",
    "update_btn=widgets.Button(description='Update')\n",
    "\n",
    "btn_layer1=HBox([w, prev_btn, next_btn])\n",
    "btn_layer2=HBox([submit_btn,update_btn])"
   ]
  },
  {
   "cell_type": "code",
   "execution_count": 32,
   "metadata": {},
   "outputs": [],
   "source": [
    "def bind():\n",
    "    SNo=w.value; \n",
    "    pe=pre_sld.value; ie=inf_sld.value; se= suf_sld.value\n",
    "    pre=pre_txt.value if pre_chk.value else '' \n",
    "    inf=inf_txt.value if inf_chk.value else ''\n",
    "    suf=suf_txt.value if suf_chk.value else ''\n",
    "    return SNo,pe,ie,se,pre,inf,suf\n",
    "    "
   ]
  },
  {
   "cell_type": "code",
   "execution_count": 33,
   "metadata": {},
   "outputs": [],
   "source": [
    "def bind_widg(SNo,pe,ie,se,pre,inf,suf,pdct,idct,sdct):\n",
    "    w.value=SNo; \n",
    "    pre_sld.value=pe; inf_sld.value=ie; suf_sld.value=se\n",
    "    pre_txt.value=pre; pre_chk.value=True\n",
    "    inf_txt.value=inf; inf_chk.value=True\n",
    "    suf_txt.value=suf; suf_chk.value=True\n",
    "    pre_sel.options=pdct;inf_sel.options=idct;suf_sel.options=sdct\n",
    "    "
   ]
  },
  {
   "cell_type": "code",
   "execution_count": 34,
   "metadata": {},
   "outputs": [],
   "source": [
    "def on_submit_clicked(b):\n",
    "    SNo,pe,ie,se,pre,inf,suf = bind()\n",
    "    docs, pre_dct, inf_dct, suf_dct=apply_regex(SNo,pe,ie,se,pre,inf,suf)\n",
    "    w_html.value=displacy.render(docs, style='ent', manual=True,)\n",
    "\n",
    "submit_btn.on_click(on_submit_clicked)"
   ]
  },
  {
   "cell_type": "code",
   "execution_count": 35,
   "metadata": {},
   "outputs": [],
   "source": [
    "def on_prev_clicked(b):\n",
    "    SNo,pe,ie,se,pre,inf,suf = bind()\n",
    "    SNo=SNo-1\n",
    "    SNo,pe,ie,se,pre,inf,suf = init(max(SNo,0))\n",
    "    docs, pre_dct, inf_dct, suf_dct=apply_regex(SNo,pe,ie,se,pre,inf,suf)\n",
    "    bind_widg(SNo,pe,ie,se,pre,inf,suf,pre_dct, inf_dct, suf_dct)\n",
    "    w_html.value=displacy.render(docs, style='ent', manual=True,)\n",
    "\n",
    "prev_btn.on_click(on_prev_clicked)"
   ]
  },
  {
   "cell_type": "code",
   "execution_count": 36,
   "metadata": {},
   "outputs": [],
   "source": [
    "def on_next_clicked(b):\n",
    "    SNo,pe,ie,se,pre,inf,suf = bind()\n",
    "    SNo=SNo+1\n",
    "    SNo,pe,ie,se,pre,inf,suf = init(min(SNo,len(prod_table)-1))\n",
    "    docs, pre_dct, inf_dct, suf_dct=apply_regex(SNo,pe,ie,se,pre,inf,suf)\n",
    "    bind_widg(SNo,pe,ie,se,pre,inf,suf,pre_dct, inf_dct, suf_dct)\n",
    "    w_html.value=displacy.render(docs, style='ent', manual=True,)\n",
    "\n",
    "next_btn.on_click(on_next_clicked)"
   ]
  },
  {
   "cell_type": "code",
   "execution_count": 37,
   "metadata": {
    "scrolled": false
   },
   "outputs": [
    {
     "data": {
      "application/vnd.jupyter.widget-view+json": {
       "model_id": "906fea483f7f4ad9aa9c0740ca5a0cbb",
       "version_major": 2,
       "version_minor": 0
      },
      "text/html": [
       "<p>Failed to display Jupyter Widget of type <code>VBox</code>.</p>\n",
       "<p>\n",
       "  If you're reading this message in the Jupyter Notebook or JupyterLab Notebook, it may mean\n",
       "  that the widgets JavaScript is still loading. If this message persists, it\n",
       "  likely means that the widgets JavaScript library is either not installed or\n",
       "  not enabled. See the <a href=\"https://ipywidgets.readthedocs.io/en/stable/user_install.html\">Jupyter\n",
       "  Widgets Documentation</a> for setup instructions.\n",
       "</p>\n",
       "<p>\n",
       "  If you're reading this message in another frontend (for example, a static\n",
       "  rendering on GitHub or <a href=\"https://nbviewer.jupyter.org/\">NBViewer</a>),\n",
       "  it may mean that your frontend doesn't currently support widgets.\n",
       "</p>\n"
      ],
      "text/plain": [
       "VBox(children=(HBox(children=(IntText(value=7, description='Serial No:'), Button(description='Previous', style=ButtonStyle()), Button(description='Next', style=ButtonStyle()))), Box(children=(HBox(children=(Checkbox(value=True), VBox(children=(Text(value='talkshawk'), SelectMultiple(options=('Talkshawk',), value=()))), IntSlider(value=3, max=6, orientation='vertical'))), HBox(children=(Checkbox(value=True), VBox(children=(Text(value='econmy'), SelectMultiple(options=('Economy.', 'Economy,', 'Economy'), value=()))), IntSlider(value=2, max=6, orientation='vertical'))), HBox(children=(Checkbox(value=True), VBox(children=(Text(value=''), SelectMultiple(options=('',), value=()))), IntSlider(value=0, max=6, orientation='vertical'))))), HBox(children=(Button(description='Submit', style=ButtonStyle()), Button(description='Update', style=ButtonStyle()))), Box(children=(HTML(value='<div class=\"entities\" style=\"line-height: 2.5\">Super Hit Offer:  Best call offer in Talkshawk packages is Super Hit Offer ,Dial *345*011# and make onnet free calls all day except 7 pm to 10 pm in Rs.15 Incl. Tax. Applicable on \\n<mark class=\"entity\" style=\"background: #ddd; padding: 0.45em 0.6em; margin: 0 0.25em; line-height: 1; border-radius: 0.35em; box-decoration-break: clone; -webkit-box-decoration-break: clone\">\\n    Talkshawk Economy \\n    <span style=\"font-size: 0.8em; font-weight: bold; line-height: 1; border-radius: 0.35em; text-transform: uppercase; vertical-align: middle; margin-left: 0.5rem\">ENT</span>\\n</mark>\\nPlus, Talkshawk A1, TS Econmy Plus, TS Economy, TS 24 Hour ,TS 30 & TS Value package. Validity 1 day.   There are call setup charges of 15 paisa incl. tax for all on-net & off-net charged calls, discounted calls, free calls, FNF calls, & IDD calls.</div>\\n\\n<div class=\"entities\" style=\"line-height: 2.5\">Mini Budget Daily:  Dial *240# and get 50 On-net Minutes, 300 SMS & 3 MB Internet in Rs.15 Incl. Tax. Applicable on \\n<mark class=\"entity\" style=\"background: #ddd; padding: 0.45em 0.6em; margin: 0 0.25em; line-height: 1; border-radius: 0.35em; box-decoration-break: clone; -webkit-box-decoration-break: clone\">\\n    Talkshawk Economy \\n    <span style=\"font-size: 0.8em; font-weight: bold; line-height: 1; border-radius: 0.35em; text-transform: uppercase; vertical-align: middle; margin-left: 0.5rem\">ENT</span>\\n</mark>\\nPlus, Talkshawk A1, TS Economy, TS 24, TS 30 & TS Value. Validity 1 day.    There are call setup charges of 15 paisa incl. tax for all on-net & off-net charged calls, discounted calls, free calls, FNF calls, & IDD calls.</div>\\n\\n<div class=\"entities\" style=\"line-height: 2.5\">Mini Budget Offer-2: To subscribe dial *050# in Rs.18 Incl. Tax and get 100 On-net Minutes, 300 SMS & 3 MB Internet. Applicable on \\n<mark class=\"entity\" style=\"background: #ddd; padding: 0.45em 0.6em; margin: 0 0.25em; line-height: 1; border-radius: 0.35em; box-decoration-break: clone; -webkit-box-decoration-break: clone\">\\n    Talkshawk Economy \\n    <span style=\"font-size: 0.8em; font-weight: bold; line-height: 1; border-radius: 0.35em; text-transform: uppercase; vertical-align: middle; margin-left: 0.5rem\">ENT</span>\\n</mark>\\nPlus, Talkshawk A1, TS Economy, TS 24, TS 30 & TS Value. Validity 1 day.   There are call setup charges of 15 paisa incl. tax for all on-net & off-net charged calls, discounted calls, free calls, FNF calls, & IDD calls.</div>\\n\\n<div class=\"entities\" style=\"line-height: 2.5\">Talkshawk Voice Offer: To subscribe dial *001# in Rs.17.91 Incl.Tax and make on-net free calls all day except 7pm to 10 pm. Offer valid for a day. This offer is applicable on Talkshawk 24 Hours, Talkshawk Value and \\n<mark class=\"entity\" style=\"background: #ddd; padding: 0.45em 0.6em; margin: 0 0.25em; line-height: 1; border-radius: 0.35em; box-decoration-break: clone; -webkit-box-decoration-break: clone\">\\n    Talkshawk Economy. \\n    <span style=\"font-size: 0.8em; font-weight: bold; line-height: 1; border-radius: 0.35em; text-transform: uppercase; vertical-align: middle; margin-left: 0.5rem\">ENT</span>\\n</mark>\\n  There are call setup charges of 15 paisa incl. tax for all on-net & off-net charged calls, discounted calls, free calls, FNF calls, & IDD calls.</div>\\n\\n<div class=\"entities\" style=\"line-height: 2.5\">Super Hit Offer 3Day: Dial *345*299# in Rs.34 Incl. Tax & make onnet free calls for 3 days except 7pm to 10 pm. Available on \\n<mark class=\"entity\" style=\"background: #ddd; padding: 0.45em 0.6em; margin: 0 0.25em; line-height: 1; border-radius: 0.35em; box-decoration-break: clone; -webkit-box-decoration-break: clone\">\\n    Talkshawk Economy \\n    <span style=\"font-size: 0.8em; font-weight: bold; line-height: 1; border-radius: 0.35em; text-transform: uppercase; vertical-align: middle; margin-left: 0.5rem\">ENT</span>\\n</mark>\\nPlus, Talkshawk A1, TS Econmy Plusond, TS Economy, TS 24, TS 30 paisa  & TS Value Package. Validity 3 days.   There are call setup charges of 15 paisa incl. tax for all on-net & off-net charged calls, discounted calls, free calls, FNF calls, & IDD calls.</div>\\n\\n<div class=\"entities\" style=\"line-height: 2.5\">Teen Bata Teen offer:  Dial *345*243# and get 600 Onnet Minutes, 300 SMS & 50 MB Internet in Rs.39 Incl. Tax. Applicable on \\n<mark class=\"entity\" style=\"background: #ddd; padding: 0.45em 0.6em; margin: 0 0.25em; line-height: 1; border-radius: 0.35em; box-decoration-break: clone; -webkit-box-decoration-break: clone\">\\n    Talkshawk Economy \\n    <span style=\"font-size: 0.8em; font-weight: bold; line-height: 1; border-radius: 0.35em; text-transform: uppercase; vertical-align: middle; margin-left: 0.5rem\">ENT</span>\\n</mark>\\nPlus, Talkshawk A1, TS Economy, TS 24, TS 30 & TS Value. Validity 3 days.   There are call setup charges of 15 paisa incl. tax for all on-net & off-net charged calls, discounted calls, free calls, FNF calls, & IDD calls.</div>\\n\\n<div class=\"entities\" style=\"line-height: 2.5\">Mini Budget Offer Weekly offer: To subscribe dial *345*247# in Rs.86 Incl. Tax and get 500 Onnet Minutes, 1000 SMS & 50 MB. Applicable on \\n<mark class=\"entity\" style=\"background: #ddd; padding: 0.45em 0.6em; margin: 0 0.25em; line-height: 1; border-radius: 0.35em; box-decoration-break: clone; -webkit-box-decoration-break: clone\">\\n    Talkshawk Economy \\n    <span style=\"font-size: 0.8em; font-weight: bold; line-height: 1; border-radius: 0.35em; text-transform: uppercase; vertical-align: middle; margin-left: 0.5rem\">ENT</span>\\n</mark>\\nPlus, Talkshawk A1, TS Economy, TS 24, TS 30 & TS Value. Validity 7 days.   There are call setup charges of 15 paisa incl. tax for all on-net & off-net charged calls, discounted calls, free calls, FNF calls, & IDD calls.</div>\\n\\n<div class=\"entities\" style=\"line-height: 2.5\">Your package plan is \\n<mark class=\"entity\" style=\"background: #ddd; padding: 0.45em 0.6em; margin: 0 0.25em; line-height: 1; border-radius: 0.35em; box-decoration-break: clone; -webkit-box-decoration-break: clone\">\\n    Talkshawk Economy \\n    <span style=\"font-size: 0.8em; font-weight: bold; line-height: 1; border-radius: 0.35em; text-transform: uppercase; vertical-align: middle; margin-left: 0.5rem\">ENT</span>\\n</mark>\\nPackage: Call any network in Rs.2.39/60 sec. Call onnet FnF no for Rs.1.07/60sec from 6am-6PM & for Rs.1.79/60sec from 6pm-6am.SMS.1.79 (All prices Incl. tax). Add FnF via SMS: ADD ‘number’ & send to 7777 at Rs.2.39 Incl. Tax. Example: Add 034xxxxxxxx.  There are call setup charges of 15 paisa incl. tax for all on-net & off-net charged calls, discounted calls, free calls, FNF calls, & IDD calls.</div>\\n\\n<div class=\"entities\" style=\"line-height: 2.5\">Your package plan is \\n<mark class=\"entity\" style=\"background: #ddd; padding: 0.45em 0.6em; margin: 0 0.25em; line-height: 1; border-radius: 0.35em; box-decoration-break: clone; -webkit-box-decoration-break: clone\">\\n    Talkshawk Economy \\n    <span style=\"font-size: 0.8em; font-weight: bold; line-height: 1; border-radius: 0.35em; text-transform: uppercase; vertical-align: middle; margin-left: 0.5rem\">ENT</span>\\n</mark>\\nPlus: Call any Telenor or Off-Net Number @ Rs. 2.39 per min (incl tax). SMS charges are Rs. 1.79 (incl tax) per 160 characters.  You can add 3 Telenor numbers in FnF List. From 12 am-6 am, Call your FnF numbers @ Rs. 1.79/minute (incl tax) for 5 Minutes, Next 55 Minutes will be Free.   From 6 am - 6 pm, Call your FnF numbers @ Rs 1.08/min (incl tax) for 5 Min, Next 5 Min will be Free. From 6 pm-12 am, Call your FnF numbers @ Rs. 1.79/min (incl tax).  There are call setup charges of 15 paisa incl. tax for all on-net & off-net charged calls, discounted calls, free calls, FNF calls, & IDD calls.</div>\\n\\n<div class=\"entities\" style=\"line-height: 2.5\">\\n<mark class=\"entity\" style=\"background: #ddd; padding: 0.45em 0.6em; margin: 0 0.25em; line-height: 1; border-radius: 0.35em; box-decoration-break: clone; -webkit-box-decoration-break: clone\">\\n    Talkshawk Economy \\n    <span style=\"font-size: 0.8em; font-weight: bold; line-height: 1; border-radius: 0.35em; text-transform: uppercase; vertical-align: middle; margin-left: 0.5rem\">ENT</span>\\n</mark>\\nPackage: Call any network in Rs.2.39/60 sec. Call onnet FnF no for Rs.1.07/60sec from 6am-6PM & for Rs.1.79/60sec from 6pm-6am.SMS.1.79 (All prices Incl. tax). Add FnF via SMS: ADD ‘number’ & send to 7777 at Rs.2.39 Incl. Tax. Example: Add 034xxxxxxxx. Subscribed Bundles and Offers will be confiscated on Change of Package Plan.  There are call setup charges of 15 paisa incl. tax for all on-net & off-net charged calls, discounted calls, free calls, FNF calls, & IDD calls.</div>\\n\\n<div class=\"entities\" style=\"line-height: 2.5\">\\n<mark class=\"entity\" style=\"background: #ddd; padding: 0.45em 0.6em; margin: 0 0.25em; line-height: 1; border-radius: 0.35em; box-decoration-break: clone; -webkit-box-decoration-break: clone\">\\n    Talkshawk Economy \\n    <span style=\"font-size: 0.8em; font-weight: bold; line-height: 1; border-radius: 0.35em; text-transform: uppercase; vertical-align: middle; margin-left: 0.5rem\">ENT</span>\\n</mark>\\nPlus: Call any Telenor or Off-Net Number @ Rs. 2.39 per min (incl tax). SMS charges are Rs. 1.79 (incl tax) per 160 characters.  You can add 3 Telenor numbers in FnF List. From 12 am-6 am, Call your FnF numbers @ Rs. 1.79/minute (incl tax) for 5 Minutes, Next 55 Minutes will be Free.   From 6 am - 6 pm, Call your FnF numbers @ Rs 1.08/min (incl tax) for 5 Min, Next 5 Min will be Free. From 6 pm-12 am, Call your FnF numbers @ Rs. 1.79/min (incl tax).  With due apology, you can not change your existing package to \\n<mark class=\"entity\" style=\"background: #ddd; padding: 0.45em 0.6em; margin: 0 0.25em; line-height: 1; border-radius: 0.35em; box-decoration-break: clone; -webkit-box-decoration-break: clone\">\\n    Talkshawk Economy \\n    <span style=\"font-size: 0.8em; font-weight: bold; line-height: 1; border-radius: 0.35em; text-transform: uppercase; vertical-align: middle; margin-left: 0.5rem\">ENT</span>\\n</mark>\\nPlus package. Pacakge Plan Conversion into \\n<mark class=\"entity\" style=\"background: #ddd; padding: 0.45em 0.6em; margin: 0 0.25em; line-height: 1; border-radius: 0.35em; box-decoration-break: clone; -webkit-box-decoration-break: clone\">\\n    Talkshawk Economy \\n    <span style=\"font-size: 0.8em; font-weight: bold; line-height: 1; border-radius: 0.35em; text-transform: uppercase; vertical-align: middle; margin-left: 0.5rem\">ENT</span>\\n</mark>\\nPlus package is not possible.  There are call setup charges of 15 paisa incl. tax for all on-net & off-net charged calls, discounted calls, free calls, FNF calls, & IDD calls.</div>\\n\\n<div class=\"entities\" style=\"line-height: 2.5\">To change package Send \\'migrate\\' to 345 and reply with 1,2,3,4,5, 6 as per required package number. Message to 345 is charged at Rs.2.39 (Incl. Tax) Package Change Via SMS.   Package will get converted within 15 minutes. Subscribed bundles and offers will be confiscated on change of package plan.   Dear customer we have following Talkshawk packages & Djuice Packages. 1- \\n<mark class=\"entity\" style=\"background: #ddd; padding: 0.45em 0.6em; margin: 0 0.25em; line-height: 1; border-radius: 0.35em; box-decoration-break: clone; -webkit-box-decoration-break: clone\">\\n    Talkshawk Economy, \\n    <span style=\"font-size: 0.8em; font-weight: bold; line-height: 1; border-radius: 0.35em; text-transform: uppercase; vertical-align: middle; margin-left: 0.5rem\">ENT</span>\\n</mark>\\n2- Talkshawk 30, (best package of Talkshawk) 3-Talkshawk 24 hours, 4- Talkshawk Value Package. 1-Djuice(simple), 2-Djuice One Plan package. (best package of Djuice) 3-Djuice Team offer (Dial *345*11# for activation) 4-Djuice Always On. (Dial *345*44# for activation)</div>\\n\\n<div class=\"entities\" style=\"line-height: 2.5\">Super Hit Offer: Sab se behter offer Talkshawk ke packages keliay.  Rs.15 Incl. Tax mei *345*011# mila k onnet free calls paein tamam din siwae 7pm to 10 pm. Offer \\n<mark class=\"entity\" style=\"background: #ddd; padding: 0.45em 0.6em; margin: 0 0.25em; line-height: 1; border-radius: 0.35em; box-decoration-break: clone; -webkit-box-decoration-break: clone\">\\n    Talkshawk Economy \\n    <span style=\"font-size: 0.8em; font-weight: bold; line-height: 1; border-radius: 0.35em; text-transform: uppercase; vertical-align: middle; margin-left: 0.5rem\">ENT</span>\\n</mark>\\nPlus, Talkshawk A1, TS Economy, TS 24 hour,  TS Econmy Plus, TS 30 & TS Value package pe hai. Myad 1 din.   Har on-net & off-net ki charged calls, discounted calls, free calls, FNF calls & IDD calls pe 15 paisa tax mila k call set up charges lagoo hon ge.</div>\\n\\n<div class=\"entities\" style=\"line-height: 2.5\">Mini Budget Daily:  *240# mila kar hasil karein 50 onnet minutes, 300 SMS aur 3 MB. Offer ki kul qemat tax mila ker Rs.15 hain aur \\n<mark class=\"entity\" style=\"background: #ddd; padding: 0.45em 0.6em; margin: 0 0.25em; line-height: 1; border-radius: 0.35em; box-decoration-break: clone; -webkit-box-decoration-break: clone\">\\n    Talkshawk Economy \\n    <span style=\"font-size: 0.8em; font-weight: bold; line-height: 1; border-radius: 0.35em; text-transform: uppercase; vertical-align: middle; margin-left: 0.5rem\">ENT</span>\\n</mark>\\nPlus, Talkshawk A1, TS Economy,TS 24,TS 30 & TS Value per hy. Miyad 1 din.   Har on-net & off-net ki charged calls, discounted calls, free calls, FNF calls & IDD calls pe 15 paisa tax mila k call set up charges lagoo hon ge.</div>\\n\\n<div class=\"entities\" style=\"line-height: 2.5\">Mini Budget Offer-2: Offer k liye *050# milaein.Kul Qemat tax mila ker Rs.18 hai.100 onnet mins,300 SMS aur 3 MB hasil Karain.Offer \\n<mark class=\"entity\" style=\"background: #ddd; padding: 0.45em 0.6em; margin: 0 0.25em; line-height: 1; border-radius: 0.35em; box-decoration-break: clone; -webkit-box-decoration-break: clone\">\\n    Talkshawk Economy \\n    <span style=\"font-size: 0.8em; font-weight: bold; line-height: 1; border-radius: 0.35em; text-transform: uppercase; vertical-align: middle; margin-left: 0.5rem\">ENT</span>\\n</mark>\\nPlus, Talkshawk A1, TS Economy,TS 24,TS 30/TS Value par ha.miyad 1 din.   Har on-net & off-net ki charged calls, discounted calls, free calls, FNF calls & IDD calls pe 15 paisa tax mila k call set up charges lagoo hon ge.</div>\\n\\n<div class=\"entities\" style=\"line-height: 2.5\">Talkshawk Voice Offer: Ab 7 PM se 10 PM k elawa Telenor k tamam num pe *001# mila kar Muft cal krain. Qemat tax mila ker Rs.17.91 hy or mayad 1 din. Ye offer Talkshawk 24 Hours, \\n<mark class=\"entity\" style=\"background: #ddd; padding: 0.45em 0.6em; margin: 0 0.25em; line-height: 1; border-radius: 0.35em; box-decoration-break: clone; -webkit-box-decoration-break: clone\">\\n    Talkshawk Economy \\n    <span style=\"font-size: 0.8em; font-weight: bold; line-height: 1; border-radius: 0.35em; text-transform: uppercase; vertical-align: middle; margin-left: 0.5rem\">ENT</span>\\n</mark>\\nor Talkshawk Value k sarifeen k liye hai.   Har on-net & off-net ki charged calls, discounted calls, free calls, FNF calls & IDD calls pe 15 paisa tax mila k call set up charges lagoo hon ge.</div>\\n\\n<div class=\"entities\" style=\"line-height: 2.5\">Super Hit Offer 3Day: Offer k liye *345*299# milein aur Rs.34 tax mila ker,3 din siwae sham 7 se 10 Telenor k numbers pe bat krein. Offer \\n<mark class=\"entity\" style=\"background: #ddd; padding: 0.45em 0.6em; margin: 0 0.25em; line-height: 1; border-radius: 0.35em; box-decoration-break: clone; -webkit-box-decoration-break: clone\">\\n    Talkshawk Economy \\n    <span style=\"font-size: 0.8em; font-weight: bold; line-height: 1; border-radius: 0.35em; text-transform: uppercase; vertical-align: middle; margin-left: 0.5rem\">ENT</span>\\n</mark>\\nPlus, Talkshawk A1, \\n<mark class=\"entity\" style=\"background: #ddd; padding: 0.45em 0.6em; margin: 0 0.25em; line-height: 1; border-radius: 0.35em; box-decoration-break: clone; -webkit-box-decoration-break: clone\">\\n    Talkshawk Economy, \\n    <span style=\"font-size: 0.8em; font-weight: bold; line-height: 1; border-radius: 0.35em; text-transform: uppercase; vertical-align: middle; margin-left: 0.5rem\">ENT</span>\\n</mark>\\nTS 24,  TS Econmy Plus, TS 30 & Value package pe hai. Myad 3 din.   Har on-net & off-net ki charged calls, discounted calls, free calls, FNF calls & IDD calls pe 15 paisa tax mila k call set up charges lagoo hon ge.</div>\\n\\n<div class=\"entities\" style=\"line-height: 2.5\">Teen Bata Teen offer:   *345*243# milaen aur 600 Onnet Minutes, 300 SMS, 50 MB internet hasil karain. Kul qeemat Tax mila ker Rs.39 hy. Offer \\n<mark class=\"entity\" style=\"background: #ddd; padding: 0.45em 0.6em; margin: 0 0.25em; line-height: 1; border-radius: 0.35em; box-decoration-break: clone; -webkit-box-decoration-break: clone\">\\n    Talkshawk Economy \\n    <span style=\"font-size: 0.8em; font-weight: bold; line-height: 1; border-radius: 0.35em; text-transform: uppercase; vertical-align: middle; margin-left: 0.5rem\">ENT</span>\\n</mark>\\nPlus, Talkshawk A1, TS Value, TS 30, TS 24, TS Economy par ha. Miyad 3 din.   Har on-net & off-net ki charged calls, discounted calls, free calls, FNF calls & IDD calls pe 15 paisa tax mila k call set up charges lagoo hon ge.</div>\\n\\n<div class=\"entities\" style=\"line-height: 2.5\">MBO Weekly offer:  Rs.86 tax incl. mein *345*247# dial karein aur 500 onnet minutes ,1000 SMS & 50MB hasil Karen 7 din ki miyad se. Offer \\n<mark class=\"entity\" style=\"background: #ddd; padding: 0.45em 0.6em; margin: 0 0.25em; line-height: 1; border-radius: 0.35em; box-decoration-break: clone; -webkit-box-decoration-break: clone\">\\n    Talkshawk Economy \\n    <span style=\"font-size: 0.8em; font-weight: bold; line-height: 1; border-radius: 0.35em; text-transform: uppercase; vertical-align: middle; margin-left: 0.5rem\">ENT</span>\\n</mark>\\nPlus, Talkshawk A1, TS Economy,TS 24,TS 30 & TS Value pe hai.   Har on-net & off-net ki charged calls, discounted calls, free calls, FNF calls & IDD calls pe 15 paisa tax mila k call set up charges lagoo hon ge.</div>\\n\\n<div class=\"entities\" style=\"line-height: 2.5\">Ap ka package plan \\n<mark class=\"entity\" style=\"background: #ddd; padding: 0.45em 0.6em; margin: 0 0.25em; line-height: 1; border-radius: 0.35em; box-decoration-break: clone; -webkit-box-decoration-break: clone\">\\n    Talkshawk Economy \\n    <span style=\"font-size: 0.8em; font-weight: bold; line-height: 1; border-radius: 0.35em; text-transform: uppercase; vertical-align: middle; margin-left: 0.5rem\">ENT</span>\\n</mark>\\nhai: 24 ghanatay Pakistan bhar mein Rs.2.39/minute tax mila ke charges hain aur SMS Rs.1.79 hy. (Taxes shamil hien). Telenor ke favorite num per kul qemat tax mila ker Rs.1.79/minute ki call 6pm se 6am baje tak aur kul qemat tax mila ker Rs.1.07/minute (tax mila kar) per 6am se 6pm baje tak ho gi.   Favorite number ka andraaj kerne k liye 555 mila ker hadayat per amal karein. Number darj kerne ki kul qemat tax mila ker Rs.5.98 hy.   Har on-net & off-net ki charged calls, discounted calls, free calls, FNF calls & IDD calls pe 15 paisa tax mila k call set up charges lagoo hon ge.</div>\\n\\n<div class=\"entities\" style=\"line-height: 2.5\">Ap ka package plan \\n<mark class=\"entity\" style=\"background: #ddd; padding: 0.45em 0.6em; margin: 0 0.25em; line-height: 1; border-radius: 0.35em; box-decoration-break: clone; -webkit-box-decoration-break: clone\">\\n    Talkshawk Economy \\n    <span style=\"font-size: 0.8em; font-weight: bold; line-height: 1; border-radius: 0.35em; text-transform: uppercase; vertical-align: middle; margin-left: 0.5rem\">ENT</span>\\n</mark>\\nPlus hai: \\n<mark class=\"entity\" style=\"background: #ddd; padding: 0.45em 0.6em; margin: 0 0.25em; line-height: 1; border-radius: 0.35em; box-decoration-break: clone; -webkit-box-decoration-break: clone\">\\n    Talkshawk Economy \\n    <span style=\"font-size: 0.8em; font-weight: bold; line-height: 1; border-radius: 0.35em; text-transform: uppercase; vertical-align: middle; margin-left: 0.5rem\">ENT</span>\\n</mark>\\nPlus se Telenor aur off-net numbers per call keren @ Rs. 2.39 per min (tax mila k) aur SMS karyn Rs.1.79 (tax mila k) per 160 haruff. Ap 3 Telenor numbers FnF mein shamil ker sakte hain. 12 am-6 am tak apne FnF pe phele 5 min call keren @Rs. 1.79/min (tax mila k) aur agley 55 mins muft hon ge.  6 am-6 pm apne FnF pe phele 5 min call keren @Rs.1.08/min (tax mila ke) aur agley 5 min muft hon ge. 6 pm-12 am apne FnF pe Rs. 1.79/min (tax mila k) call keren. Har on-net & off-net ki charged calls, discounted calls, free calls, FNF calls & IDD calls pe 15 paisa tax mila k call set up charges lagoo hon ge.</div>\\n\\n<div class=\"entities\" style=\"line-height: 2.5\">\\n<mark class=\"entity\" style=\"background: #ddd; padding: 0.45em 0.6em; margin: 0 0.25em; line-height: 1; border-radius: 0.35em; box-decoration-break: clone; -webkit-box-decoration-break: clone\">\\n    Talkshawk Economy \\n    <span style=\"font-size: 0.8em; font-weight: bold; line-height: 1; border-radius: 0.35em; text-transform: uppercase; vertical-align: middle; margin-left: 0.5rem\">ENT</span>\\n</mark>\\nPackage: Is package mein 24 ghanatay Pakistan bhar mein Rs.2.39/minute tax mila ke charges hain aur SMS Rs.1.79 hy. (Taxes shamil hien). Telenor ke favorite num per kul qemat tax mila ker Rs.1.79/minute ki call 6pm se 6am baje tak aur kul qemat tax mila ker Rs.1.07/minute (tax mila kar) per 6am se 6pm baje tak ho gi.  Favorite number ka andraaj kerne k liye 555 mila ker hadayat per amal karein. Number darj kerne ki kul qemat tax mila ker Rs.5.98 hy.   Har on-net & off-net ki charged calls, discounted calls, free calls, FNF calls & IDD calls pe 15 paisa tax mila k call set up charges lagoo hon ge.</div>\\n\\n<div class=\"entities\" style=\"line-height: 2.5\">\\n<mark class=\"entity\" style=\"background: #ddd; padding: 0.45em 0.6em; margin: 0 0.25em; line-height: 1; border-radius: 0.35em; box-decoration-break: clone; -webkit-box-decoration-break: clone\">\\n    Talkshawk Economy \\n    <span style=\"font-size: 0.8em; font-weight: bold; line-height: 1; border-radius: 0.35em; text-transform: uppercase; vertical-align: middle; margin-left: 0.5rem\">ENT</span>\\n</mark>\\nPlus: \\n<mark class=\"entity\" style=\"background: #ddd; padding: 0.45em 0.6em; margin: 0 0.25em; line-height: 1; border-radius: 0.35em; box-decoration-break: clone; -webkit-box-decoration-break: clone\">\\n    Talkshawk Economy \\n    <span style=\"font-size: 0.8em; font-weight: bold; line-height: 1; border-radius: 0.35em; text-transform: uppercase; vertical-align: middle; margin-left: 0.5rem\">ENT</span>\\n</mark>\\nPlus se Telenor aur off-net numbers per call keren @ Rs. 2.39 per min (tax mila k) aur SMS karyn Rs.1.79 (tax mila k) per 160 haruff. Ap 3 Telenor numbers FnF mein shamil ker sakte hain. 12 am-6 am tak apne FnF pe phele 5 min call keren @Rs. 1.79/min (tax mila k) aur agley 55 mins muft hon ge.  6 am-6 pm apne FnF pe phele 5 min call keren @Rs.1.08/min (tax mila ke) aur agley 5 min muft hon ge. 6 pm-12 am apne FnF pe Rs. 1.79/min (tax mila k) call keren. Mazarat kay sath, ap apne moujuda package ko \\n<mark class=\"entity\" style=\"background: #ddd; padding: 0.45em 0.6em; margin: 0 0.25em; line-height: 1; border-radius: 0.35em; box-decoration-break: clone; -webkit-box-decoration-break: clone\">\\n    Talkshawk Economy \\n    <span style=\"font-size: 0.8em; font-weight: bold; line-height: 1; border-radius: 0.35em; text-transform: uppercase; vertical-align: middle; margin-left: 0.5rem\">ENT</span>\\n</mark>\\nPlus mein tabdeel nahi ker sakte. Kisi bhi package ki \\n<mark class=\"entity\" style=\"background: #ddd; padding: 0.45em 0.6em; margin: 0 0.25em; line-height: 1; border-radius: 0.35em; box-decoration-break: clone; -webkit-box-decoration-break: clone\">\\n    Talkshawk Economy \\n    <span style=\"font-size: 0.8em; font-weight: bold; line-height: 1; border-radius: 0.35em; text-transform: uppercase; vertical-align: middle; margin-left: 0.5rem\">ENT</span>\\n</mark>\\nPlus Package mein tabdeeli mumkin nahi.  Har on-net & off-net ki charged calls, discounted calls, free calls, FNF calls & IDD calls pe 15 paisa tax mila k call set up charges lagoo hon ge.</div>\\n\\n<div class=\"entities\" style=\"line-height: 2.5\">Package ki tabdeeli keliay  \\'migrate\\' message mein likh kar 345 bhej dein aur reply mein 1,2,3,4,5, 6 jo package hasil karna chah rahe ho us ke mutabiq likh kar send kar dein. 345 pe har message ke 2.39 paise tax mila kar honge.   Package ki tabdeeli 15 minutes kay doraniye mai amal mai aye gi. Package ki tabdeeli par offer bundle khatam ho jain ge.  Muaziz Sarif, Talkshawk aur Djuice k packages ye hain:  1- \\n<mark class=\"entity\" style=\"background: #ddd; padding: 0.45em 0.6em; margin: 0 0.25em; line-height: 1; border-radius: 0.35em; box-decoration-break: clone; -webkit-box-decoration-break: clone\">\\n    Talkshawk Economy, \\n    <span style=\"font-size: 0.8em; font-weight: bold; line-height: 1; border-radius: 0.35em; text-transform: uppercase; vertical-align: middle; margin-left: 0.5rem\">ENT</span>\\n</mark>\\n2- Talkshawk 30, (Talkshawk ka best package) 3-Talkshawk 24 hours, 4- Talkshawk Value Package. 1-Djuice, 2-Djuice One Plan package. (Djuice ka best package) 3-Djuice Team offer (Activation k liye *345*11# dial kijiye) 4-Djuice Always On. (Activation k liye *345*44# dial kijiye)</div>'),), layout=Layout(border='solid', display='flex', flex_flow='row', height='100 px', overflow_x='scroll')), HBox(children=(Button(description='Previous', style=ButtonStyle()), Button(description='Next', style=ButtonStyle())))))"
      ]
     },
     "metadata": {},
     "output_type": "display_data"
    }
   ],
   "source": [
    "w_html=widgets.HTML(displacy.render(docs, style='ent', manual=True,))\n",
    "#items = [Text(value=w, disabled=True) for w in prod_table.iloc[SNo,]]\n",
    "item_bx=Box([pre_box,inf_box,suf_box], )\n",
    "wBox=widgets.Box([w_html], layout=html_box_layout)\n",
    "\n",
    "VBox([btn_layer1, item_bx, btn_layer2, wBox, HBox([prev_btn, next_btn])])"
   ]
  },
  {
   "cell_type": "code",
   "execution_count": null,
   "metadata": {},
   "outputs": [],
   "source": [
    "pd."
   ]
  },
  {
   "cell_type": "code",
   "execution_count": null,
   "metadata": {},
   "outputs": [],
   "source": []
  }
 ],
 "metadata": {
  "anaconda-cloud": {},
  "kernelspec": {
   "display_name": "Python 3",
   "language": "python",
   "name": "python3"
  },
  "language_info": {
   "codemirror_mode": {
    "name": "ipython",
    "version": 3
   },
   "file_extension": ".py",
   "mimetype": "text/x-python",
   "name": "python",
   "nbconvert_exporter": "python",
   "pygments_lexer": "ipython3",
   "version": "3.5.2"
  }
 },
 "nbformat": 4,
 "nbformat_minor": 2
}
